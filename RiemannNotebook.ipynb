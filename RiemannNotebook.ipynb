{
 "cells": [
  {
   "cell_type": "code",
   "execution_count": 1,
   "id": "c1a1e201",
   "metadata": {},
   "outputs": [],
   "source": [
    "import matplotlib as mpl\n",
    "mpl.use('TKAgg')\n",
    "from functools import partial"
   ]
  },
  {
   "cell_type": "code",
   "execution_count": 2,
   "id": "3db1673b",
   "metadata": {},
   "outputs": [],
   "source": [
    "# import plot_critical_line_values as pclv"
   ]
  },
  {
   "cell_type": "code",
   "execution_count": 3,
   "id": "a7c8f81c",
   "metadata": {},
   "outputs": [
    {
     "name": "stdout",
     "output_type": "stream",
     "text": [
      "riemann_heatmap_gui\n"
     ]
    },
    {
     "name": "stderr",
     "output_type": "stream",
     "text": [
      "C:\\Users\\tomjh\\AppData\\Local\\Packages\\PythonSoftwareFoundation.Python.3.9_qbz5n2kfra8p0\\LocalCache\\local-packages\\Python39\\site-packages\\ipykernel\\eventloops.py:256: RuntimeWarning: coroutine 'Kernel.do_one_iteration' was never awaited\n",
      "  self.func()\n",
      "RuntimeWarning: Enable tracemalloc to get the object allocation traceback\n"
     ]
    }
   ],
   "source": [
    "from riemann_heatmap_gui import *\n",
    "\n",
    "quit_flag = False"
   ]
  },
  {
   "cell_type": "code",
   "execution_count": null,
   "id": "862a85be",
   "metadata": {},
   "outputs": [],
   "source": [
    "# Gaps between various menu windows\n",
    "PADDING_PIXELS = 5\n",
    "is_android = False\n",
    "if 'ANDROID_BOOTLOGO' in environ:\n",
    "    is_android = True\n",
    "\n",
    "\n",
    "def do_vectors():\n",
    "    import riemann_vectors\n",
    "\n",
    "\n",
    "def do_heatmap(root):\n",
    "\n",
    "    # Create heatmap menu window\n",
    "    win = tk.Toplevel(root)\n",
    "\n",
    "    if not is_android:\n",
    "        # Move to avoid overlapping the base menu window\n",
    "\n",
    "        # winfo_rooty() gets y-coordinate of window contents BELOW the titlebar, whereas winfo_y(), which gets\n",
    "        # coordinate of the top of the titlebar. So we use the first, in order to place new window entirely below old.\n",
    "#        new_geom = \"+%d+%d\" % (PADDING_PIXELS, PADDING_PIXELS + root.winfo_rooty() + root.winfo_height())\n",
    "\n",
    "        # New menu is slightly below and right of firstg one\n",
    "        new_geom = \"+%d+%d\" % (25, 25)\n",
    "        print(\"Creating heatmap control window at location \" + new_geom)\n",
    "        win.geometry(new_geom)\n",
    "\n",
    "    win_heatmap = WinHeatMap(win, is_android)\n",
    "    win_heatmap.make_heatmap_gui()\n",
    "\n",
    "\n",
    "def do_critical_line(show_graphs=True):\n",
    "    pclv.show_critial_line(show_graph1=show_graphs)\n",
    "\n",
    "\n",
    "def do_critical_line_histogram():\n",
    "    pclv.show_histograms()\n",
    "\n",
    "\n",
    "def do_exit(root):\n",
    "    global quit_flag\n",
    "    quit_flag = True\n",
    "    root.quit()\n",
    "\n",
    "\n",
    "def do_main():\n",
    "    global quit_flag\n",
    "\n",
    "    root = tk.Tk()\n",
    "    root.title(string=\"Choose\")\n",
    "\n",
    "    if is_android:\n",
    "        # Use simpler GUI on PyDroid, and larger buttons\n",
    "        frame1 = root\n",
    "        ipad = 20\n",
    "    else:\n",
    "        frame1 = tk.Frame(root, highlightbackground=\"black\", highlightthickness=1, relief=\"flat\", borderwidth=5)\n",
    "        frame1.pack(side=tk.TOP, fill=tk.BOTH, padx=20, pady=20)\n",
    "        ipad = 10\n",
    "\n",
    "    ttk.Label(frame1, text=\"Choose program\").pack(fill=tk.X, pady=5)\n",
    "    ttk.Button(frame1, text=\"Heatmaps\", command=partial(do_heatmap, root)).pack(fill=tk.X,\n",
    "                                                                 padx=10, pady=5,\n",
    "                                                                 ipadx=ipad, ipady=ipad)\n",
    "    ttk.Button(frame1, text=\"Critical line plot\", command=do_critical_line).pack(fill=tk.X,\n",
    "                                                                                 padx=10, pady=5,\n",
    "                                                                                 ipadx=ipad, ipady=ipad)\n",
    "    ttk.Button(frame1, text=\"Critical line calculation (no graphs)\", command=partial(do_critical_line, False)).pack(fill=tk.X,\n",
    "                                                                                 padx=10, pady=5,\n",
    "                                                                                 ipadx=ipad, ipady=ipad)\n",
    "    ttk.Button(frame1, text=\"Critical line histogram\", command=do_critical_line_histogram).pack(fill=tk.X,\n",
    "                                                                                 padx=10, pady=5,\n",
    "                                                                                 ipadx=ipad, ipady=ipad)\n",
    "    ttk.Button(frame1, text=\"Riemann vectors\", command=do_vectors).pack(fill=tk.X,\n",
    "                                                                        padx=10, pady=5,\n",
    "                                                                        ipadx=ipad, ipady=ipad)\n",
    "    ttk.Button(frame1, text=\"Exit\", command=partial(do_exit, root)).pack(fill=tk.X,\n",
    "                                                          padx=10, pady=5,\n",
    "                                                          ipadx=ipad, ipady=ipad)\n",
    "\n",
    "\n",
    "    if is_android:\n",
    "        print(\"Android!\")\n",
    "        # On PyDroid, I can't get root.geometry() to do anything. So just skip it.\n",
    "    else:\n",
    "        # Place in top left corner of screen\n",
    "        root.geometry(\"+%d+%d\" % (PADDING_PIXELS, PADDING_PIXELS))\n",
    "\n",
    "    # Force window to show, otherwise winfo_geometry() will return zero\n",
    "    frame1.update()\n",
    "    print(\"Created main window with geometry \" + root.winfo_geometry())\n",
    "\n",
    "    # frame1.tkraise()\n",
    "\n",
    "    # Clear flag in case we are running for the second time\n",
    "    quit_flag = False\n",
    "\n",
    "    # Because matplotlib.close() will terminate this loop, we wrap it in another loop\n",
    "    while not quit_flag:\n",
    "        tk.mainloop()\n",
    "        print(\"Mainloop exited.\")\n",
    "        if not quit_flag:\n",
    "            print(\" Reentering now.\")\n",
    "\n",
    "    print(\"Finished\")\n",
    "    root.destroy()\n",
    "\n",
    "#if __name__ == '__main__':   #\n",
    "do_main()\n"
   ]
  },
  {
   "cell_type": "code",
   "execution_count": null,
   "id": "290cd501",
   "metadata": {},
   "outputs": [],
   "source": []
  }
 ],
 "metadata": {
  "kernelspec": {
   "display_name": "Python 3 (ipykernel)",
   "language": "python",
   "name": "python3"
  },
  "language_info": {
   "codemirror_mode": {
    "name": "ipython",
    "version": 3
   },
   "file_extension": ".py",
   "mimetype": "text/x-python",
   "name": "python",
   "nbconvert_exporter": "python",
   "pygments_lexer": "ipython3",
   "version": "3.9.7"
  }
 },
 "nbformat": 4,
 "nbformat_minor": 5
}
